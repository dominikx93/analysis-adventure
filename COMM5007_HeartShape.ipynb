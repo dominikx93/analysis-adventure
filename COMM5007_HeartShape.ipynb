{
 "cells": [
  {
   "cell_type": "code",
   "execution_count": null,
   "id": "004dd02d-b9a2-4243-9749-b26e092283fd",
   "metadata": {},
   "outputs": [],
   "source": [
    "def get_heart_size():\n",
    "#Defines get_heart_size() function, gets a valid heart size from user.\n",
    "    while True:\n",
    "#While loop, while true, infinitely keeps asking until a valid number.\n",
    "        try:\n",
    "            n = int(input(\"Enter an integer as heart size \"\n",
    "                          \"(6-50, mate): \"))\n",
    "#input() function, gets the input as a string.\n",
    "#int() function, converts it to an integer.\n",
    "#Implicit string concatenation here.\n",
    "            if 6 <= n <= 50:\n",
    "#Contional statements, checks condition, if it is between 6 and 50.\n",
    "                return n\n",
    "#If condition is fulfilled, return n and exit the function.\n",
    "            print(\n",
    "                \"Pick one between 6 and 50, mate. \"\n",
    "                \"Try again.\")\n",
    "#If input integer goes beyond, display strings and repeat the loop.\n",
    "#Else here is left out since if... return... structure.\n",
    "#Implicit string concatenation here.\n",
    "        except ValueError:\n",
    "#Except block, handles errors when input is not an integer.\n",
    "            print(\"Crikey! That ain't an integer. \"\n",
    "                  \"Try again, mate.\")\n",
    "#If a value error occurs, display strings and repeat the loop.\n",
    "#Implicit string concatenation here.\n",
    "def print_heart(n):\n",
    "#Defines print_heart(n) function, prints a heart based on the given size.\n",
    "    for i in range(n // 2, n, 2):\n",
    "#For loop, creates top rounded lobes of the heart.\n",
    "#Range, starts from n//2 (floor division, half of n), \n",
    "#(cont.) and increases by 2 each time until reaching n.\n",
    "#It is because two lobes connect to each other when reaching n.\n",
    "        print(\" \" * ((n - i) // 2) + \"$\" * i + \" \" * (n - i) + \"$\" * i)\n",
    "#\" \" * ((n - i) // 2), adds space to the left.\n",
    "#\"$\" * i, prints two halves of heart lobes.\n",
    "#\" \" * (n - i), adds space at centre.\n",
    "    for i in range(n, 0, -1):\n",
    "#For loop, creates bottom pointy part.\n",
    "#Range, starts at n, and decreases by 1 until reaching 0.\n",
    "        print(\" \" * (n - i) + \"$\" * (2 * i - 1))\n",
    "#\" \" * (n - i), adds space to the left.\n",
    "#\"$\" * (2 * i - 1), prints decreasing number of $.\n",
    "def main():\n",
    "#Defines main() function, sets program flow.\n",
    "    n = get_heart_size()\n",
    "#Calls get_heart_size(), gets a valid input.\n",
    "    print_heart(n)\n",
    "#Calls print_heart(n), prints the heart shape.\n",
    "main()\n",
    "#Calls main(), starts the program."
   ]
  },
  {
   "cell_type": "code",
   "execution_count": null,
   "id": "f4976ca1-fbf8-40d7-b0f7-ae7d6d968a98",
   "metadata": {},
   "outputs": [],
   "source": []
  }
 ],
 "metadata": {
  "kernelspec": {
   "display_name": "Python [conda env:base] *",
   "language": "python",
   "name": "conda-base-py"
  },
  "language_info": {
   "codemirror_mode": {
    "name": "ipython",
    "version": 3
   },
   "file_extension": ".py",
   "mimetype": "text/x-python",
   "name": "python",
   "nbconvert_exporter": "python",
   "pygments_lexer": "ipython3",
   "version": "3.12.7"
  }
 },
 "nbformat": 4,
 "nbformat_minor": 5
}
